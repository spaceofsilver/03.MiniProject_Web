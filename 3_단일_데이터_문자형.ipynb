{
  "nbformat": 4,
  "nbformat_minor": 0,
  "metadata": {
    "colab": {
      "name": "3. 단일 데이터_문자형.ipynb",
      "provenance": [],
      "collapsed_sections": [],
      "toc_visible": true,
      "authorship_tag": "ABX9TyMTan7XBX3QTZNLAkwmskxc",
      "include_colab_link": true
    },
    "kernelspec": {
      "name": "python3",
      "display_name": "Python 3"
    }
  },
  "cells": [
    {
      "cell_type": "markdown",
      "metadata": {
        "id": "view-in-github",
        "colab_type": "text"
      },
      "source": [
        "<a href=\"https://colab.research.google.com/github/spaceofsilver/20.12.18_miniproject_final/blob/master/3_%EB%8B%A8%EC%9D%BC_%EB%8D%B0%EC%9D%B4%ED%84%B0_%EB%AC%B8%EC%9E%90%ED%98%95.ipynb\" target=\"_parent\"><img src=\"https://colab.research.google.com/assets/colab-badge.svg\" alt=\"Open In Colab\"/></a>"
      ]
    },
    {
      "cell_type": "markdown",
      "metadata": {
        "id": "QzCr05Evjox9"
      },
      "source": [
        "# 문자열 "
      ]
    },
    {
      "cell_type": "markdown",
      "metadata": {
        "id": "pQRYK5swjsd_"
      },
      "source": [
        "- 단일 데이터형이면서 연속 데이터형\n",
        "- 수정불가\n",
        "- 뭔가 조작을 하면 새로 생성된 것(?) \n",
        "- 기호 : '', \"\", ''' ''', \"\"\" \"\"\"\n",
        "  - ''' or \"\"\" :  주석용, 여러줄로 문자열 표현, 구조를 유지하면서 문자열을 표현할 때(sql)"
      ]
    },
    {
      "cell_type": "code",
      "metadata": {
        "colab": {
          "base_uri": "https://localhost:8080/",
          "height": 35
        },
        "id": "f7u92_3ejTpV",
        "outputId": "c978e7dc-7179-4caa-f685-68bac1ab5837"
      },
      "source": [
        "# 1. 문자열 표현\n",
        "a = 'hello PNU 113 !@#!@ 안녕'\n",
        "a"
      ],
      "execution_count": null,
      "outputs": [
        {
          "output_type": "execute_result",
          "data": {
            "application/vnd.google.colaboratory.intrinsic+json": {
              "type": "string"
            },
            "text/plain": [
              "'hello PNU 113 !@#!@ 안녕'"
            ]
          },
          "metadata": {
            "tags": []
          },
          "execution_count": 1
        }
      ]
    },
    {
      "cell_type": "code",
      "metadata": {
        "colab": {
          "base_uri": "https://localhost:8080/"
        },
        "id": "pa9yHGGukZlO",
        "outputId": "9c2cf514-dc1d-45fa-c0ea-04be44e26e58"
      },
      "source": [
        "# 2. 타입 체크 \n",
        "type(a)"
      ],
      "execution_count": null,
      "outputs": [
        {
          "output_type": "execute_result",
          "data": {
            "text/plain": [
              "str"
            ]
          },
          "metadata": {
            "tags": []
          },
          "execution_count": 2
        }
      ]
    },
    {
      "cell_type": "code",
      "metadata": {
        "colab": {
          "base_uri": "https://localhost:8080/"
        },
        "id": "GJJCOzj0kZuw",
        "outputId": "dec8dafb-c75b-4c8a-d70e-b9bf1c6f4db8"
      },
      "source": [
        "# 3. 여러줄 표현\n",
        "a = ''' \n",
        "    select \n",
        "    *\n",
        "    from\n",
        "      uesrs;\n",
        "'''\n",
        "print(a)"
      ],
      "execution_count": null,
      "outputs": [
        {
          "output_type": "stream",
          "text": [
            " \n",
            "    select \n",
            "    *\n",
            "    from\n",
            "      uesrs;\n",
            "\n"
          ],
          "name": "stdout"
        }
      ]
    },
    {
      "cell_type": "code",
      "metadata": {
        "colab": {
          "base_uri": "https://localhost:8080/"
        },
        "id": "CwJuzJJJkZ1J",
        "outputId": "8ccbf1d0-c7b1-407f-a346-a2ecccb035ea"
      },
      "source": [
        "# 4. 섞는 표현 :  \"쌍따옴표\"와 '홀따옴표' 혼용 -> javascript\n",
        "a = ' abc \"123\" def'\n",
        "b = 'abc\\'123\\'def'\n",
        "a,b "
      ],
      "execution_count": null,
      "outputs": [
        {
          "output_type": "execute_result",
          "data": {
            "text/plain": [
              "(' abc \"123\" def', \"abc'123'def\")"
            ]
          },
          "metadata": {
            "tags": []
          },
          "execution_count": 4
        }
      ]
    },
    {
      "cell_type": "code",
      "metadata": {
        "colab": {
          "base_uri": "https://localhost:8080/"
        },
        "id": "T_z2ENDYkZ5h",
        "outputId": "5acc0e55-009c-4713-dd52-5b0813e1eedf"
      },
      "source": [
        "# 5. 문자열 더하기\n",
        "a = '234'\n",
        "b = '567'\n",
        "a + b, a, b  # 엄밀히 따지면 문자열 이어 붙이기"
      ],
      "execution_count": null,
      "outputs": [
        {
          "output_type": "execute_result",
          "data": {
            "text/plain": [
              "('234567', '234', '567')"
            ]
          },
          "metadata": {
            "tags": []
          },
          "execution_count": 5
        }
      ]
    },
    {
      "cell_type": "code",
      "metadata": {
        "colab": {
          "base_uri": "https://localhost:8080/",
          "height": 35
        },
        "id": "OLXQG9NwkZ-d",
        "outputId": "88cf1e4a-542f-4fd2-8feb-456a80c8eaa9"
      },
      "source": [
        "# 6. 문자열 곱하기\n",
        "'+'*10"
      ],
      "execution_count": null,
      "outputs": [
        {
          "output_type": "execute_result",
          "data": {
            "application/vnd.google.colaboratory.intrinsic+json": {
              "type": "string"
            },
            "text/plain": [
              "'++++++++++'"
            ]
          },
          "metadata": {
            "tags": []
          },
          "execution_count": 6
        }
      ]
    },
    {
      "cell_type": "code",
      "metadata": {
        "colab": {
          "base_uri": "https://localhost:8080/"
        },
        "id": "cA_yPQazkaCx",
        "outputId": "90084528-0191-41f1-e5a7-611f7c7df381"
      },
      "source": [
        "# 7. 인덱싱(! 중요) -> 목표: 데이터 중 원하는 부분을 추출\n",
        "# 차원축소를 전제로 한다.\n",
        "\n",
        "# ex) 2차배열의 인덱싱을 하면 1차배열로 결과가 나옴\n",
        "# ex) 벡터를 인덱싱하면 스칼라로\n",
        "# ex) DataFrame을 인덱싱 하면 Series로 나온다\n",
        "\n",
        "# 문법: 변수명[ 인덱스 ]\n",
        "# *인덱스: 정방향(0,1,2,..)뿐만 아니라 역방향(-1,-2,-3, ...)도 지원해준다. \n",
        "a = 'abcdef'\n",
        "\n",
        "# Q1. 문자열에서 c를 추출하시오 -> 인덱스: 커서의 오른쪽 값을 취한다.\n",
        "a[2], a[-4] \n",
        "# 인덱스의 방향은 가까운 쪽에서 카운트하기\n"
      ],
      "execution_count": null,
      "outputs": [
        {
          "output_type": "execute_result",
          "data": {
            "text/plain": [
              "('c', 'c')"
            ]
          },
          "metadata": {
            "tags": []
          },
          "execution_count": 7
        }
      ]
    },
    {
      "cell_type": "code",
      "metadata": {
        "colab": {
          "base_uri": "https://localhost:8080/"
        },
        "id": "KLc5pnjfkaGx",
        "outputId": "da5b9e87-65e2-4342-f315-8c66b169a10b"
      },
      "source": [
        "# 8. 슬라이싱(! 중요) -> 목표: 데이터 중 원하는 부분을 자른다\n",
        "# '자른다' -> 차원 유지\n",
        "\n",
        "# 문법: 변수명[시작인덱스:종료인덱스:스텝(간격, 생략하면 1이다)]\n",
        "a[0:3:2], a[:]#원본카피(! 중요)\n",
        "a[::], a[::2], a[1:-1]# x:y -> x <= 값이 y엔 안들어감."
      ],
      "execution_count": null,
      "outputs": [
        {
          "output_type": "execute_result",
          "data": {
            "text/plain": [
              "('abcdef', 'ace', 'bcde')"
            ]
          },
          "metadata": {
            "tags": []
          },
          "execution_count": 8
        }
      ]
    },
    {
      "cell_type": "code",
      "metadata": {
        "colab": {
          "base_uri": "https://localhost:8080/",
          "height": 35
        },
        "id": "chXRpjU6kaKX",
        "outputId": "f01b0d97-f9df-4f51-8884-fa16fa2f976e"
      },
      "source": [
        "a[1:-1]"
      ],
      "execution_count": null,
      "outputs": [
        {
          "output_type": "execute_result",
          "data": {
            "application/vnd.google.colaboratory.intrinsic+json": {
              "type": "string"
            },
            "text/plain": [
              "'bcde'"
            ]
          },
          "metadata": {
            "tags": []
          },
          "execution_count": 9
        }
      ]
    },
    {
      "cell_type": "code",
      "metadata": {
        "colab": {
          "base_uri": "https://localhost:8080/",
          "height": 35
        },
        "id": "UxYrD6SAkaNm",
        "outputId": "8497cca0-9407-439a-b9f7-c4f978fe4919"
      },
      "source": [
        "a"
      ],
      "execution_count": null,
      "outputs": [
        {
          "output_type": "execute_result",
          "data": {
            "application/vnd.google.colaboratory.intrinsic+json": {
              "type": "string"
            },
            "text/plain": [
              "'abcdef'"
            ]
          },
          "metadata": {
            "tags": []
          },
          "execution_count": 10
        }
      ]
    },
    {
      "cell_type": "markdown",
      "metadata": {
        "id": "5dd8_oLct6Yo"
      },
      "source": [
        "## 스플릿(split)"
      ]
    },
    {
      "cell_type": "code",
      "metadata": {
        "colab": {
          "base_uri": "https://localhost:8080/",
          "height": 35
        },
        "id": "Hcey69VlkaRR",
        "outputId": "32cb2561-ab77-4608-adff-e9adf7d48b94"
      },
      "source": [
        "# 9. 스플릿(split): 구분자를 기준으로 나누기\n",
        "a = 'https://www.mk.co.kr/news/it/view/2020/11/1204016/?utm_source=naver&utm_medium=newsstand'\n",
        "a\n",
        "# Q. naver라는 값을 추출하시오 -> mode 값을 추출하기\n",
        "a.split('?')[1].split('&')[0].split('=')[1] # 대화형 에이터는 특정 코드를 집중적으로 수행할 수 있어서, \n",
        "                                            # 원하는 값이 나올 때까지 전체를 구동하는 것이 아니라 부분만 실행가능"
      ],
      "execution_count": null,
      "outputs": [
        {
          "output_type": "execute_result",
          "data": {
            "application/vnd.google.colaboratory.intrinsic+json": {
              "type": "string"
            },
            "text/plain": [
              "'naver'"
            ]
          },
          "metadata": {
            "tags": []
          },
          "execution_count": 11
        }
      ]
    },
    {
      "cell_type": "markdown",
      "metadata": {
        "id": "jhghkta-t1GE"
      },
      "source": [
        "## 조인(join)"
      ]
    },
    {
      "cell_type": "code",
      "metadata": {
        "colab": {
          "base_uri": "https://localhost:8080/",
          "height": 54
        },
        "id": "ydpl40ufscvz",
        "outputId": "164dddb6-8bbb-4f86-eadd-09f05c099697"
      },
      "source": [
        "# 10. 조인(join): 문자열 합치기\n",
        "tmp = list('abc')\n",
        "print(tmp)\n",
        "\n",
        "# Q. a|b|c 이렇게 만들기(구분자를 집어 넣어 하나의 문자열로 만들고 싶다면)\n",
        "'|'.join(tmp)"
      ],
      "execution_count": null,
      "outputs": [
        {
          "output_type": "stream",
          "text": [
            "['a', 'b', 'c']\n"
          ],
          "name": "stdout"
        },
        {
          "output_type": "execute_result",
          "data": {
            "application/vnd.google.colaboratory.intrinsic+json": {
              "type": "string"
            },
            "text/plain": [
              "'a|b|c'"
            ]
          },
          "metadata": {
            "tags": []
          },
          "execution_count": 12
        }
      ]
    },
    {
      "cell_type": "markdown",
      "metadata": {
        "id": "-cBBOsBet27c"
      },
      "source": [
        "## 포멧팅(formating)"
      ]
    },
    {
      "cell_type": "code",
      "metadata": {
        "id": "PDMh8oD_vBo3"
      },
      "source": [
        "# 11. 포멧팅(format): 문자열과 문자열의 결합, 문자열 안에 특정 데이터를 삽입하여 생성\n",
        "\n",
        "# 11-1.  문자열 % (파라미터)\n",
        "# 11-2.  문자열.format(파라미터)\n",
        "# 11-3.  f'문자열{파라미터} <- 가장 최근에 추가됨. \n",
        "\n",
        "# 왜 하는 건가? 데이터를 원하는 형태로 가공하기 위해 -> 정제역할\n",
        "# 향후 문자열의 전처리 -> '정규식'표현 (추후에 단독주제로 공부)\n",
        "\n",
        "a = 1\n",
        "b = 2"
      ],
      "execution_count": null,
      "outputs": []
    },
    {
      "cell_type": "code",
      "metadata": {
        "colab": {
          "base_uri": "https://localhost:8080/",
          "height": 35
        },
        "id": "-HwEz3Ppvn5X",
        "outputId": "67264e74-c272-4c66-c803-993debf8f015"
      },
      "source": [
        "# 11-1.\n",
        "# a+\" ? \"+b = (a+b)\n",
        "str(a) + \" ? \" + str(b) + '=' + '(a+b)'"
      ],
      "execution_count": null,
      "outputs": [
        {
          "output_type": "execute_result",
          "data": {
            "application/vnd.google.colaboratory.intrinsic+json": {
              "type": "string"
            },
            "text/plain": [
              "'1 ? 2=(a+b)'"
            ]
          },
          "metadata": {
            "tags": []
          },
          "execution_count": 14
        }
      ]
    },
    {
      "cell_type": "code",
      "metadata": {
        "colab": {
          "base_uri": "https://localhost:8080/",
          "height": 35
        },
        "id": "4Cf0hwVwwn5T",
        "outputId": "7bae820d-50fe-4303-f205-c97a0d077870"
      },
      "source": [
        "# 포멧팅의 본질: 결과를 먼저 쓰고 나머지는 채운다는 것(! 중요)\n",
        "\"%d / %d = %d\" %(a,b,a/b) # a, b가 정수라는 전제하에 계산 -> 타입이 다르면 잠재적인 오류 가능 "
      ],
      "execution_count": null,
      "outputs": [
        {
          "output_type": "execute_result",
          "data": {
            "application/vnd.google.colaboratory.intrinsic+json": {
              "type": "string"
            },
            "text/plain": [
              "'1 / 2 = 0'"
            ]
          },
          "metadata": {
            "tags": []
          },
          "execution_count": 15
        }
      ]
    },
    {
      "cell_type": "code",
      "metadata": {
        "colab": {
          "base_uri": "https://localhost:8080/",
          "height": 35
        },
        "id": "mlL8lR_NxpXt",
        "outputId": "2f50fc55-95b4-4010-85c8-a36c146fd321"
      },
      "source": [
        "\"%s / %s = %s\" %(a,b,a/b) # 범용적으로 표현하여 예방, %s는 입력값의 타입이 뭔지 몰라도 다 처리해줌.\n",
        "                          # 단, 순서를 바꿀 순 없다. 순서대로 자리에 들어감."
      ],
      "execution_count": null,
      "outputs": [
        {
          "output_type": "execute_result",
          "data": {
            "application/vnd.google.colaboratory.intrinsic+json": {
              "type": "string"
            },
            "text/plain": [
              "'1 / 2 = 0.5'"
            ]
          },
          "metadata": {
            "tags": []
          },
          "execution_count": 16
        }
      ]
    },
    {
      "cell_type": "code",
      "metadata": {
        "colab": {
          "base_uri": "https://localhost:8080/",
          "height": 35
        },
        "id": "BZ4hrEKfxdhV",
        "outputId": "34636ee5-3f15-4362-9330-80f2f3eed67f"
      },
      "source": [
        "# 11-2 : 위의 한계점을 개선\n",
        "\"{0} / {1}  = {2}\".format(a,b,a/b) # {} 안의 값이 부동소수인지 정수인지 상관없음"
      ],
      "execution_count": null,
      "outputs": [
        {
          "output_type": "execute_result",
          "data": {
            "application/vnd.google.colaboratory.intrinsic+json": {
              "type": "string"
            },
            "text/plain": [
              "'1 / 2  = 0.5'"
            ]
          },
          "metadata": {
            "tags": []
          },
          "execution_count": 17
        }
      ]
    },
    {
      "cell_type": "code",
      "metadata": {
        "colab": {
          "base_uri": "https://localhost:8080/",
          "height": 35
        },
        "id": "GSkEi43FyNPD",
        "outputId": "7a262d0a-b351-4c9d-c756-7bd622531d38"
      },
      "source": [
        "\"{0} / {1}  = {2}\".format(a,b,a/b) # (! 중요) 순서를 바꿀 수 있다!!!"
      ],
      "execution_count": null,
      "outputs": [
        {
          "output_type": "execute_result",
          "data": {
            "application/vnd.google.colaboratory.intrinsic+json": {
              "type": "string"
            },
            "text/plain": [
              "'1 / 2  = 0.5'"
            ]
          },
          "metadata": {
            "tags": []
          },
          "execution_count": 18
        }
      ]
    },
    {
      "cell_type": "code",
      "metadata": {
        "colab": {
          "base_uri": "https://localhost:8080/",
          "height": 35
        },
        "id": "op1AJmV_ymOk",
        "outputId": "866eb17c-c205-45ff-e1b2-0e822f44e9d0"
      },
      "source": [
        "# 파라미터를 사용하지 않아도 ok\n",
        "\"{1} / {1}  = {0}\".format(a,b,a/b)"
      ],
      "execution_count": null,
      "outputs": [
        {
          "output_type": "execute_result",
          "data": {
            "application/vnd.google.colaboratory.intrinsic+json": {
              "type": "string"
            },
            "text/plain": [
              "'2 / 2  = 1'"
            ]
          },
          "metadata": {
            "tags": []
          },
          "execution_count": 19
        }
      ]
    },
    {
      "cell_type": "code",
      "metadata": {
        "colab": {
          "base_uri": "https://localhost:8080/",
          "height": 35
        },
        "id": "egF55YHAywhX",
        "outputId": "688b768c-c03e-4495-a981-cc32d221953a"
      },
      "source": [
        "# 의미를 명확하게 부여할 수 있다.(이름 줄 수 있다)\n",
        "\"{height} / {weight}  = {result}\".format(height= a,weight= b,result = a/b)"
      ],
      "execution_count": null,
      "outputs": [
        {
          "output_type": "execute_result",
          "data": {
            "application/vnd.google.colaboratory.intrinsic+json": {
              "type": "string"
            },
            "text/plain": [
              "'1 / 2  = 0.5'"
            ]
          },
          "metadata": {
            "tags": []
          },
          "execution_count": 20
        }
      ]
    },
    {
      "cell_type": "code",
      "metadata": {
        "colab": {
          "base_uri": "https://localhost:8080/",
          "height": 35
        },
        "id": "KwcARjBmy9eK",
        "outputId": "8c1144a4-090f-4a86-ce0e-f0ffcc4d08af"
      },
      "source": [
        "# 11-3: f-string formating\n",
        "f'{a}+{b}={a+b}'"
      ],
      "execution_count": null,
      "outputs": [
        {
          "output_type": "execute_result",
          "data": {
            "application/vnd.google.colaboratory.intrinsic+json": {
              "type": "string"
            },
            "text/plain": [
              "'1+2=3'"
            ]
          },
          "metadata": {
            "tags": []
          },
          "execution_count": 21
        }
      ]
    },
    {
      "cell_type": "code",
      "metadata": {
        "id": "84mgKNW_zQVE"
      },
      "source": [
        "# 모두실행: 에러가 나면 멈춤"
      ],
      "execution_count": null,
      "outputs": []
    },
    {
      "cell_type": "markdown",
      "metadata": {
        "id": "-Zx8S91qtvA9"
      },
      "source": [
        "## 12. 공백 제거\n"
      ]
    },
    {
      "cell_type": "code",
      "metadata": {
        "colab": {
          "base_uri": "https://localhost:8080/"
        },
        "id": "q4R9K2YQrePj",
        "outputId": "36d0231d-6f7c-46ee-e180-3184fc7a3a35"
      },
      "source": [
        "# 12. 공백 제거\n",
        "tmp = '''\n",
        "\n",
        "      \n",
        "\t\t\t\t\n",
        "\t\t\t\t\t\n",
        "\t\t\t\t\t\n",
        "\t\t\t\t\t\n",
        "\t\t\t\t\t미국 USD\n",
        "\t\t\t\t\n",
        "\t\t\t\t'''\n",
        "tmp \n",
        "# (1) 문자열의 앞뒤 공백제거  -> 문자열 함수 사용 -> strip()\n",
        "f'[{tmp.strip()}]', f'[{tmp.lstrip()}]' , f'[{tmp.rstrip()}]'"
      ],
      "execution_count": null,
      "outputs": [
        {
          "output_type": "execute_result",
          "data": {
            "text/plain": [
              "('[미국 USD]',\n",
              " '[미국 USD\\n\\t\\t\\t\\t\\n\\t\\t\\t\\t]',\n",
              " '[\\n\\n      \\n\\t\\t\\t\\t\\n\\t\\t\\t\\t\\t\\n\\t\\t\\t\\t\\t\\n\\t\\t\\t\\t\\t\\n\\t\\t\\t\\t\\t미국 USD]')"
            ]
          },
          "metadata": {
            "tags": []
          },
          "execution_count": 28
        }
      ]
    },
    {
      "cell_type": "code",
      "metadata": {
        "id": "SPjetuygsFLR"
      },
      "source": [
        "# (2) 문자열의 내부 공백 제거 -> 정규식으로 해결!\n",
        "# 간단한 것은 문자열 함수들로 처리하고 복잡한 것은 정규식으로 처리."
      ],
      "execution_count": null,
      "outputs": []
    },
    {
      "cell_type": "markdown",
      "metadata": {
        "id": "tjNpxEc2uDfo"
      },
      "source": [
        "## 13. 텍스트 대체"
      ]
    },
    {
      "cell_type": "code",
      "metadata": {
        "colab": {
          "base_uri": "https://localhost:8080/"
        },
        "id": "J2LbK0kSuCTD",
        "outputId": "4bee460b-a3ce-4566-f375-fa84355c48f7"
      },
      "source": [
        "a = '1234'\n",
        "a, a.replace('23','AB')"
      ],
      "execution_count": null,
      "outputs": [
        {
          "output_type": "execute_result",
          "data": {
            "text/plain": [
              "('1234', '1AB4')"
            ]
          },
          "metadata": {
            "tags": []
          },
          "execution_count": 30
        }
      ]
    },
    {
      "cell_type": "markdown",
      "metadata": {
        "id": "w3d8FTrKuTXU"
      },
      "source": [
        "## 14. 포멧팅을 응용해서 값의 자릿수(칸수) 지정"
      ]
    },
    {
      "cell_type": "code",
      "metadata": {
        "colab": {
          "base_uri": "https://localhost:8080/"
        },
        "id": "IRVFTAO3uP0e",
        "outputId": "7fba39ad-2701-406d-e2cb-ea52ba50fff7"
      },
      "source": [
        "'[%s]'%'ABCD'\n",
        "\n",
        "# Q. 10칸을 무조건 차지한다면?\n",
        "'[%10s]'%'ABCD','[%-10s]'%'ABCD' # 정방향, 역방향"
      ],
      "execution_count": null,
      "outputs": [
        {
          "output_type": "execute_result",
          "data": {
            "text/plain": [
              "('[      ABCD]', '[ABCD      ]')"
            ]
          },
          "metadata": {
            "tags": []
          },
          "execution_count": 33
        }
      ]
    },
    {
      "cell_type": "code",
      "metadata": {
        "colab": {
          "base_uri": "https://localhost:8080/"
        },
        "id": "xXGYFyoBulBx",
        "outputId": "1db30bcd-338d-4768-a0e4-7f789732320c"
      },
      "source": [
        "'[%10f]'%3.145678, '[%10s]'%3.145678"
      ],
      "execution_count": null,
      "outputs": [
        {
          "output_type": "execute_result",
          "data": {
            "text/plain": [
              "('[  3.145678]', '[  3.145678]')"
            ]
          },
          "metadata": {
            "tags": []
          },
          "execution_count": 34
        }
      ]
    },
    {
      "cell_type": "code",
      "metadata": {
        "colab": {
          "base_uri": "https://localhost:8080/"
        },
        "id": "uELNKhaEvFSh",
        "outputId": "b77b07e5-e135-4594-df5f-dc41c193bbf7"
      },
      "source": [
        "'[%10.2f]'%3.145678, '[%10.2s]'%3.145678"
      ],
      "execution_count": null,
      "outputs": [
        {
          "output_type": "execute_result",
          "data": {
            "text/plain": [
              "('[      3.15]', '[        3.]')"
            ]
          },
          "metadata": {
            "tags": []
          },
          "execution_count": 35
        }
      ]
    },
    {
      "cell_type": "code",
      "metadata": {
        "colab": {
          "base_uri": "https://localhost:8080/"
        },
        "id": "Iw0lzPeAvIuR",
        "outputId": "96af5797-7090-4072-9dba-188ecab5d4f7"
      },
      "source": [
        "'[{:10}]'.format('ABCD') , '[{0:<10}]'.format('ABCD') ,'[{0:>10}]'.format('ABCD') , '[{0:^10}]'.format('ABCD') \n",
        "# '[{0:-10}]'.format('ABCD') # 역방향은 안 되네? 에러발생"
      ],
      "execution_count": null,
      "outputs": [
        {
          "output_type": "execute_result",
          "data": {
            "text/plain": [
              "('[ABCD      ]', '[ABCD      ]', '[      ABCD]', '[   ABCD   ]')"
            ]
          },
          "metadata": {
            "tags": []
          },
          "execution_count": 42
        }
      ]
    },
    {
      "cell_type": "code",
      "metadata": {
        "id": "mTRF79ND_R2w",
        "colab": {
          "base_uri": "https://localhost:8080/"
        },
        "outputId": "251b33a4-bde9-4306-da9e-6bc4fe8430c0"
      },
      "source": [
        " print('-'*30)\n",
        " print('-{0:^20}-'.format('게임시작'))"
      ],
      "execution_count": null,
      "outputs": [
        {
          "output_type": "stream",
          "text": [
            "------------------------------\n",
            "-        게임시작        -\n"
          ],
          "name": "stdout"
        }
      ]
    },
    {
      "cell_type": "code",
      "metadata": {
        "id": "nOtUH1Aq_R5j"
      },
      "source": [
        ""
      ],
      "execution_count": null,
      "outputs": []
    },
    {
      "cell_type": "code",
      "metadata": {
        "colab": {
          "base_uri": "https://localhost:8080/",
          "height": 35
        },
        "id": "8fUWRf3mvVNT",
        "outputId": "b5dbf183-a475-4e7a-e352-916aea8dfe41"
      },
      "source": [
        "'[{0:*^10}]'.format('ABCD') "
      ],
      "execution_count": null,
      "outputs": [
        {
          "output_type": "execute_result",
          "data": {
            "application/vnd.google.colaboratory.intrinsic+json": {
              "type": "string"
            },
            "text/plain": [
              "'[***ABCD***]'"
            ]
          },
          "metadata": {
            "tags": []
          },
          "execution_count": 44
        }
      ]
    },
    {
      "cell_type": "code",
      "metadata": {
        "colab": {
          "base_uri": "https://localhost:8080/"
        },
        "id": "ZkeH5LqZwBfg",
        "outputId": "b7fb6934-7622-4e6f-b652-4e269b27f9e8"
      },
      "source": [
        "a='abcd'\n",
        "f'[{a:10}]',f'[{a:>10}]',f'[{a:^10}]'"
      ],
      "execution_count": null,
      "outputs": [
        {
          "output_type": "execute_result",
          "data": {
            "text/plain": [
              "('[abcd      ]', '[      abcd]', '[   abcd   ]')"
            ]
          },
          "metadata": {
            "tags": []
          },
          "execution_count": 48
        }
      ]
    },
    {
      "cell_type": "code",
      "metadata": {
        "colab": {
          "base_uri": "https://localhost:8080/",
          "height": 35
        },
        "id": "0ep3DePXy5Qz",
        "outputId": "c62b7a37-d682-4d1f-c701-ac7f3acee7b4"
      },
      "source": [
        "'a'.zfill(5)"
      ],
      "execution_count": null,
      "outputs": [
        {
          "output_type": "execute_result",
          "data": {
            "application/vnd.google.colaboratory.intrinsic+json": {
              "type": "string"
            },
            "text/plain": [
              "'0000a'"
            ]
          },
          "metadata": {
            "tags": []
          },
          "execution_count": 51
        }
      ]
    },
    {
      "cell_type": "code",
      "metadata": {
        "id": "k_27vmQuzSYU"
      },
      "source": [
        ""
      ],
      "execution_count": null,
      "outputs": []
    }
  ]
}